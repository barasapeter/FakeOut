{
 "cells": [
  {
   "cell_type": "code",
   "execution_count": 5,
   "id": "b48ce36a",
   "metadata": {},
   "outputs": [
    {
     "name": "stdout",
     "output_type": "stream",
     "text": [
      "0.9893095768374165\n",
      "[1]\n"
     ]
    },
    {
     "ename": "KeyError",
     "evalue": "'shipman'",
     "output_type": "error",
     "traceback": [
      "\u001b[1;31m---------------------------------------------------------------------------\u001b[0m",
      "\u001b[1;31mKeyError\u001b[0m                                  Traceback (most recent call last)",
      "Cell \u001b[1;32mIn[5], line 64\u001b[0m\n\u001b[0;32m     61\u001b[0m top_feature_indices \u001b[38;5;241m=\u001b[39m [x[\u001b[38;5;241m0\u001b[39m] \u001b[38;5;28;01mfor\u001b[39;00m x \u001b[38;5;129;01min\u001b[39;00m top_weights]\n\u001b[0;32m     63\u001b[0m \u001b[38;5;66;03m# Convert indices to words\u001b[39;00m\n\u001b[1;32m---> 64\u001b[0m top_feature_words \u001b[38;5;241m=\u001b[39m \u001b[43m[\u001b[49m\u001b[43mfeature_names\u001b[49m\u001b[43m[\u001b[49m\u001b[43mi\u001b[49m\u001b[43m]\u001b[49m\u001b[43m \u001b[49m\u001b[38;5;28;43;01mfor\u001b[39;49;00m\u001b[43m \u001b[49m\u001b[43mi\u001b[49m\u001b[43m \u001b[49m\u001b[38;5;129;43;01min\u001b[39;49;00m\u001b[43m \u001b[49m\u001b[43mtop_feature_indices\u001b[49m\u001b[43m]\u001b[49m\n\u001b[0;32m     67\u001b[0m \u001b[38;5;66;03m# Create explanation\u001b[39;00m\n\u001b[0;32m     68\u001b[0m explanation \u001b[38;5;241m=\u001b[39m \u001b[38;5;124m\"\u001b[39m\u001b[38;5;124mThe model predicted this was \u001b[39m\u001b[38;5;132;01m{}\u001b[39;00m\u001b[38;5;124m news based on the phrases: \u001b[39m\u001b[38;5;132;01m{}\u001b[39;00m\u001b[38;5;124m\"\u001b[39m\u001b[38;5;241m.\u001b[39mformat(\n\u001b[0;32m     69\u001b[0m     \u001b[38;5;124m\"\u001b[39m\u001b[38;5;124mfake\u001b[39m\u001b[38;5;124m\"\u001b[39m \u001b[38;5;28;01mif\u001b[39;00m pred[\u001b[38;5;241m0\u001b[39m] \u001b[38;5;241m==\u001b[39m \u001b[38;5;241m0\u001b[39m \u001b[38;5;28;01melse\u001b[39;00m \u001b[38;5;124m\"\u001b[39m\u001b[38;5;124mreal\u001b[39m\u001b[38;5;124m\"\u001b[39m, \n\u001b[0;32m     70\u001b[0m     \u001b[38;5;124m\"\u001b[39m\u001b[38;5;124m, \u001b[39m\u001b[38;5;124m\"\u001b[39m\u001b[38;5;241m.\u001b[39mjoin(top_feature_words)\n\u001b[0;32m     71\u001b[0m )\n",
      "Cell \u001b[1;32mIn[5], line 64\u001b[0m, in \u001b[0;36m<listcomp>\u001b[1;34m(.0)\u001b[0m\n\u001b[0;32m     61\u001b[0m top_feature_indices \u001b[38;5;241m=\u001b[39m [x[\u001b[38;5;241m0\u001b[39m] \u001b[38;5;28;01mfor\u001b[39;00m x \u001b[38;5;129;01min\u001b[39;00m top_weights]\n\u001b[0;32m     63\u001b[0m \u001b[38;5;66;03m# Convert indices to words\u001b[39;00m\n\u001b[1;32m---> 64\u001b[0m top_feature_words \u001b[38;5;241m=\u001b[39m [\u001b[43mfeature_names\u001b[49m\u001b[43m[\u001b[49m\u001b[43mi\u001b[49m\u001b[43m]\u001b[49m \u001b[38;5;28;01mfor\u001b[39;00m i \u001b[38;5;129;01min\u001b[39;00m top_feature_indices]\n\u001b[0;32m     67\u001b[0m \u001b[38;5;66;03m# Create explanation\u001b[39;00m\n\u001b[0;32m     68\u001b[0m explanation \u001b[38;5;241m=\u001b[39m \u001b[38;5;124m\"\u001b[39m\u001b[38;5;124mThe model predicted this was \u001b[39m\u001b[38;5;132;01m{}\u001b[39;00m\u001b[38;5;124m news based on the phrases: \u001b[39m\u001b[38;5;132;01m{}\u001b[39;00m\u001b[38;5;124m\"\u001b[39m\u001b[38;5;241m.\u001b[39mformat(\n\u001b[0;32m     69\u001b[0m     \u001b[38;5;124m\"\u001b[39m\u001b[38;5;124mfake\u001b[39m\u001b[38;5;124m\"\u001b[39m \u001b[38;5;28;01mif\u001b[39;00m pred[\u001b[38;5;241m0\u001b[39m] \u001b[38;5;241m==\u001b[39m \u001b[38;5;241m0\u001b[39m \u001b[38;5;28;01melse\u001b[39;00m \u001b[38;5;124m\"\u001b[39m\u001b[38;5;124mreal\u001b[39m\u001b[38;5;124m\"\u001b[39m, \n\u001b[0;32m     70\u001b[0m     \u001b[38;5;124m\"\u001b[39m\u001b[38;5;124m, \u001b[39m\u001b[38;5;124m\"\u001b[39m\u001b[38;5;241m.\u001b[39mjoin(top_feature_words)\n\u001b[0;32m     71\u001b[0m )\n",
      "\u001b[1;31mKeyError\u001b[0m: 'shipman'"
     ]
    }
   ],
   "source": [
    "from sklearn.linear_model import LogisticRegression\n",
    "from sklearn.feature_extraction.text import TfidfVectorizer\n",
    "from sklearn.model_selection import train_test_split\n",
    "import pandas as pd\n",
    "\n",
    "fake_df = pd.read_csv('fake.csv')\n",
    "fake_df['label'] = 0\n",
    "\n",
    "true_df = pd.read_csv('true.csv')\n",
    "true_df['label'] = 1\n",
    "\n",
    "df = pd.concat([fake_df, true_df])\n",
    "X_train, X_val, y_train, y_val = train_test_split(df[['title', 'text', 'subject']],\n",
    "                                                  df['label'], test_size=0.2)\n",
    "vect = TfidfVectorizer()\n",
    "X_train = vect.fit_transform(X_train['title'] + ' ' + X_train['text'])\n",
    "X_val = vect.transform(X_val['title'] + ' ' + X_val['text'])\n",
    "\n",
    "\n",
    "model = LogisticRegression()\n",
    "model.fit(X_train, y_train)\n",
    "print(model.score(X_val, y_val))\n",
    "\n",
    "\n",
    "new_article = pd.DataFrame({'title': ['Senate panel votes to advance tax bill'],\n",
    "                            'text': ['WASHINGTON (Reuters) - The U.S. Senate Budget Committee voted along party lines on Tuesday to send a Republican tax bill to the full Senate for a vote. The 12-to-11 vote “moves us one step closer to a simpler, fairer, and more transparent tax system,” Budget Committee Chairman Mike Enzi said in a statement.  The full Senate is expected to begin debating the tax bill and vote on it sometime this week. The Republican-controlled House of Representatives has already passed its version of a package of tax cuts. '],\n",
    "                            'subject': ['politicsNews'],\n",
    "                            'date': ['November 28, 2017']})\n",
    "\n",
    "new_article_vect = vect.transform(\n",
    "    new_article['title'] + ' ' + new_article['text'])\n",
    "\n",
    "pred = model.predict(new_article_vect)\n",
    "print(pred)\n",
    "\n",
    "\n",
    "# ----------------------------------------------------------\n",
    "import numpy as np\n",
    "# Get feature names from the vectorizer \n",
    "\n",
    "feature_names = vect.vocabulary_\n",
    "\n",
    "# Get coefficients from LR model\n",
    "coefs = model.coef_[0]\n",
    "\n",
    "# Zip with feature names\n",
    "weighted_features = zip(feature_names, coefs)\n",
    "\n",
    "# Sort by weight  \n",
    "top_weights = sorted(weighted_features, key=lambda x: x[1], reverse=True)[:5]\n",
    "\n",
    "\n",
    "\n",
    "\n",
    "\n",
    "feature_names = vect.vocabulary_\n",
    "\n",
    "feature_names = {v:k for k, v in feature_names.items()}\n",
    "\n",
    "# Get feature integer indices\n",
    "top_feature_indices = [x[0] for x in top_weights]\n",
    "\n",
    "# Convert indices to words\n",
    "top_feature_words = [feature_names[i] for i in top_feature_indices]\n",
    "\n",
    "\n",
    "# Create explanation\n",
    "explanation = \"The model predicted this was {} news based on the phrases: {}\".format(\n",
    "    \"fake\" if pred[0] == 0 else \"real\", \n",
    "    \", \".join(top_feature_words)\n",
    ")\n",
    "explanation\n",
    "\n"
   ]
  },
  {
   "cell_type": "code",
   "execution_count": null,
   "id": "26a76fd5",
   "metadata": {},
   "outputs": [],
   "source": []
  }
 ],
 "metadata": {
  "kernelspec": {
   "display_name": "Python 3 (ipykernel)",
   "language": "python",
   "name": "python3"
  },
  "language_info": {
   "codemirror_mode": {
    "name": "ipython",
    "version": 3
   },
   "file_extension": ".py",
   "mimetype": "text/x-python",
   "name": "python",
   "nbconvert_exporter": "python",
   "pygments_lexer": "ipython3",
   "version": "3.11.2"
  }
 },
 "nbformat": 4,
 "nbformat_minor": 5
}
