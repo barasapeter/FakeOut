{
 "cells": [
  {
   "cell_type": "code",
   "execution_count": 10,
   "id": "ee5c1982",
   "metadata": {},
   "outputs": [
    {
     "name": "stdout",
     "output_type": "stream",
     "text": [
      "[1 1]\n"
     ]
    }
   ],
   "source": [
    "import pandas as pd\n",
    "from sklearn.feature_extraction.text import TfidfVectorizer\n",
    "from sklearn.naive_bayes import MultinomialNB\n",
    "from sklearn.pipeline import Pipeline\n",
    "from sklearn.model_selection import train_test_split\n",
    "\n",
    "fake_df = pd.read_csv('fake.csv')\n",
    "true_df = pd.read_csv('true.csv')\n",
    "\n",
    "df = pd.concat([fake_df, true_df])\n",
    "df['label'] = df['text'].apply(lambda x: 0 if 'fake' in x else 1)\n",
    "X = df['text'] \n",
    "y = df['label']\n",
    "\n",
    "pipeline = Pipeline([\n",
    "    ('vectorizer', TfidfVectorizer()),\n",
    "    ('classifier', MultinomialNB()),\n",
    "])\n",
    "\n",
    "X_train, X_test, y_train, y_test = train_test_split(X, y, test_size=0.2, random_state=42)\n",
    "\n",
    "pipeline.fit(X_train, y_train)  \n",
    "# print(pipeline.score(X_test, y_test))\n",
    "\n",
    "\n",
    "# # Sample real news text\n",
    "# real_text = \"\"\"The government announced today that the economy added 250,000 jobs in the last month. \n",
    "# Unemployment remained steady at 4.0%. Analysts viewed the report as a positive sign for the nation's recovery.\"\"\"\n",
    "\n",
    "# # Sample fake news text  \n",
    "# fake_text = \"\"\"The economy lost over 3 million jobs last quarter according to recently fabricated numbers. \n",
    "# Unemployment jumped to 8.5% in June, much higher than expected.\"\"\"\n",
    "\n",
    "# # Load into dataframe  \n",
    "# news_df = pd.DataFrame({'text': [real_text, fake_text]})\n",
    "\n",
    "# # Predict \n",
    "# y_pred = pipeline.predict(news_df['text'])\n",
    "\n",
    "# # Print predictions\n",
    "# print(y_pred)\n",
    "\n",
    "\n",
    "\n",
    "\n",
    "# Sample real news  \n",
    "real_text = \"\"\"New reports show the unemployment rate has fallen to 3.8%, the lowest in over 50 years.\"\"\"\n",
    "\n",
    "# Sample fake news\n",
    "# fake_text = \"\"\"Breaking news reports confirm unemployment has jumped to 40% overnight in a catastrophic collapse of the economy. \n",
    "# The mainstream media is covering up this huge story.\"\"\"  \n",
    "fake_text = \"\"\"\n",
    "Donald Trump just couldn t wish all Americans a Happy New Year and leave it at that. Instead, he had to give a shout out to his enemies, haters and  the very dishonest fake news media.  The former reality show star had just one job to do and he couldn t do it. As our Country rapidly grows stronger and smarter, I want to wish all of my friends, supporters, enemies, haters, and even the very dishonest Fake News Media, a Happy and Healthy New Year,  President Angry Pants tweeted.  2018 will be a great year for America! As our Country rapidly grows stronger and smarter, I want to wish all of my friends, supporters, enemies, haters, and even the very dishonest Fake News Media, a Happy and Healthy New Year. 2018 will be a great year for America!  Donald J. Trump (@realDonaldTrump) December 31, 2017Trump s tweet went down about as welll as you d expect.What kind of president sends a New Year s greeting like this despicable, petty, infantile gibberish? Only Trump! His lack of decency won t even allow him to rise above the gutter long enough to wish the American citizens a happy new year!  Bishop Talbert Swan (@TalbertSwan) December 31, 2017no one likes you  Calvin (@calvinstowell) December 31, 2017Your impeachment would make 2018 a great year for America, but I ll also accept regaining control of Congress.  Miranda Yaver (@mirandayaver) December 31, 2017Do you hear yourself talk? When you have to include that many people that hate you you have to wonder? Why do the they all hate me?  Alan Sandoval (@AlanSandoval13) December 31, 2017Who uses the word Haters in a New Years wish??  Marlene (@marlene399) December 31, 2017You can t just say happy new year?  Koren pollitt (@Korencarpenter) December 31, 2017Here s Trump s New Year s Eve tweet from 2016.Happy New Year to all, including to my many enemies and those who have fought me and lost so badly they just don t know what to do. Love!  Donald J. Trump (@realDonaldTrump) December 31, 2016This is nothing new for Trump. He s been doing this for years.Trump has directed messages to his  enemies  and  haters  for New Year s, Easter, Thanksgiving, and the anniversary of 9/11. pic.twitter.com/4FPAe2KypA  Daniel Dale (@ddale8) December 31, 2017Trump s holiday tweets are clearly not presidential.How long did he work at Hallmark before becoming President?  Steven Goodine (@SGoodine) December 31, 2017He s always been like this . . . the only difference is that in the last few years, his filter has been breaking down.  Roy Schulze (@thbthttt) December 31, 2017Who, apart from a teenager uses the term haters?  Wendy (@WendyWhistles) December 31, 2017he s a fucking 5 year old  Who Knows (@rainyday80) December 31, 2017So, to all the people who voted for this a hole thinking he would change once he got into power, you were wrong! 70-year-old men don t change and now he s a year older.Photo by Andrew Burton/Getty Images.\n",
    "\"\"\"\n",
    "\n",
    "# Load into dataframe\n",
    "news_df = pd.DataFrame({'text':[real_text, fake_text]})\n",
    "\n",
    "# Predict \n",
    "y_pred = pipeline.predict(news_df['text'])\n",
    "\n",
    "# Print predictions\n",
    "print(y_pred)"
   ]
  },
  {
   "cell_type": "code",
   "execution_count": null,
   "id": "388a1d89",
   "metadata": {},
   "outputs": [],
   "source": []
  }
 ],
 "metadata": {
  "kernelspec": {
   "display_name": "Python 3 (ipykernel)",
   "language": "python",
   "name": "python3"
  },
  "language_info": {
   "codemirror_mode": {
    "name": "ipython",
    "version": 3
   },
   "file_extension": ".py",
   "mimetype": "text/x-python",
   "name": "python",
   "nbconvert_exporter": "python",
   "pygments_lexer": "ipython3",
   "version": "3.11.2"
  }
 },
 "nbformat": 4,
 "nbformat_minor": 5
}
