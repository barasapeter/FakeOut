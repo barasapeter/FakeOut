{
 "cells": [
  {
   "cell_type": "code",
   "execution_count": 11,
   "id": "e5447512",
   "metadata": {
    "scrolled": true
   },
   "outputs": [
    {
     "name": "stdout",
     "output_type": "stream",
     "text": [
      "0.9879732739420936\n",
      "[1]\n"
     ]
    },
    {
     "data": {
      "text/plain": [
       "'The model predicted this was real news based on the phrases: ripoff, sennewald, anh, 2500, gibbons'"
      ]
     },
     "execution_count": 11,
     "metadata": {},
     "output_type": "execute_result"
    }
   ],
   "source": [
    "from sklearn.linear_model import LogisticRegression\n",
    "from sklearn.feature_extraction.text import TfidfVectorizer\n",
    "from sklearn.model_selection import train_test_split\n",
    "import pandas as pd\n",
    "\n",
    "fake_df = pd.read_csv('fake.csv')\n",
    "fake_df['label'] = 0\n",
    "\n",
    "true_df = pd.read_csv('true.csv')\n",
    "true_df['label'] = 1\n",
    "\n",
    "df = pd.concat([fake_df, true_df])\n",
    "X_train, X_val, y_train, y_val = train_test_split(df[['title', 'text', 'subject']],\n",
    "                                                  df['label'], test_size=0.2)\n",
    "vect = TfidfVectorizer()\n",
    "X_train = vect.fit_transform(X_train['title'] + ' ' + X_train['text'])\n",
    "X_val = vect.transform(X_val['title'] + ' ' + X_val['text'])\n",
    "\n",
    "\n",
    "model = LogisticRegression()\n",
    "model.fit(X_train, y_train)\n",
    "print(model.score(X_val, y_val))\n",
    "\n",
    "\n",
    "new_article = pd.DataFrame({'title': ['Senate panel votes to advance tax bill'],\n",
    "                            'text': ['WASHINGTON (Reuters) - The U.S. Senate Budget Committee voted along party lines on Tuesday to send a Republican tax bill to the full Senate for a vote. The 12-to-11 vote “moves us one step closer to a simpler, fairer, and more transparent tax system,” Budget Committee Chairman Mike Enzi said in a statement.  The full Senate is expected to begin debating the tax bill and vote on it sometime this week. The Republican-controlled House of Representatives has already passed its version of a package of tax cuts. '],\n",
    "                            'subject': ['politicsNews'],\n",
    "                            'date': ['November 28, 2017']})\n",
    "\n",
    "new_article_vect = vect.transform(\n",
    "    new_article['title'] + ' ' + new_article['text'])\n",
    "\n",
    "pred = model.predict(new_article_vect)\n",
    "print(pred)\n",
    "\n",
    "\n",
    "# ----------------------------------------------------------\n",
    "import numpy as np\n",
    "# Get feature names from the vectorizer \n",
    "feature_names = vect.vocabulary_\n",
    "\n",
    "feature_names = {v:k for k, v in feature_names.items()}\n",
    "\n",
    "# Get feature integer indices\n",
    "top_feature_indices = [x[0] for x in top_weights]\n",
    "\n",
    "# Convert indices to words\n",
    "top_feature_words = [feature_names[i] for i in top_feature_indices]\n",
    "\n",
    "\n",
    "# Create explanation\n",
    "explanation = \"The model predicted this was {} news based on the phrases: {}\".format(\n",
    "    \"fake\" if pred[0] == 0 else \"real\", \n",
    "    \", \".join(top_feature_words)\n",
    ")\n",
    "explanation\n",
    "\n"
   ]
  },
  {
   "cell_type": "code",
   "execution_count": null,
   "id": "8b86ab0d",
   "metadata": {},
   "outputs": [],
   "source": []
  }
 ],
 "metadata": {
  "kernelspec": {
   "display_name": "Python 3 (ipykernel)",
   "language": "python",
   "name": "python3"
  },
  "language_info": {
   "codemirror_mode": {
    "name": "ipython",
    "version": 3
   },
   "file_extension": ".py",
   "mimetype": "text/x-python",
   "name": "python",
   "nbconvert_exporter": "python",
   "pygments_lexer": "ipython3",
   "version": "3.11.2"
  }
 },
 "nbformat": 4,
 "nbformat_minor": 5
}
